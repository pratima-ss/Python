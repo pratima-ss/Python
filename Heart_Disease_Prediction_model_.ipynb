{
  "nbformat": 4,
  "nbformat_minor": 0,
  "metadata": {
    "colab": {
      "name": "Heart_Disease_Prediction-model .ipynb",
      "provenance": [],
      "collapsed_sections": [],
      "authorship_tag": "ABX9TyOS8Ke09x5narZMyUn8j+Re",
      "include_colab_link": true
    },
    "kernelspec": {
      "name": "python3",
      "display_name": "Python 3"
    },
    "language_info": {
      "name": "python"
    }
  },
  "cells": [
    {
      "cell_type": "markdown",
      "metadata": {
        "id": "view-in-github",
        "colab_type": "text"
      },
      "source": [
        "<a href=\"https://colab.research.google.com/github/pratima-ss/Python/blob/main/Heart_Disease_Prediction_model_.ipynb\" target=\"_parent\"><img src=\"https://colab.research.google.com/assets/colab-badge.svg\" alt=\"Open In Colab\"/></a>"
      ]
    },
    {
      "cell_type": "markdown",
      "source": [
        "The project-Heart Disease Prediction model using logistic regression has been done by Pratima S.\n",
        "\n",
        "Stack : Python\n",
        "\n",
        "ML model: Logistic Regression\n",
        "\n",
        "Accuracy: ~80\n",
        "\n",
        "This project uses python along with some machine learning libraries to facilitate prediction.Data used is from UCI Heart Disease prediction.Data used has been stored in Github in raw format and is then pre-processed and then the model is trained with 80% of data which is then tested using 20% data.This model gives an accurancy as about 80%.\n",
        "\n",
        "Ongoing development : Deploying it as an app using streamlit after pickling the model.\n",
        "\n",
        "Further development : Improvement of accuracy\n",
        "\n"
      ],
      "metadata": {
        "id": "ffwftDTWSq93"
      }
    },
    {
      "cell_type": "code",
      "execution_count": 1,
      "metadata": {
        "id": "h0SW5SXMu01i"
      },
      "outputs": [],
      "source": [
        "import numpy as np\n",
        "import pandas as pd\n",
        "from sklearn.model_selection import train_test_split\n",
        "from sklearn.linear_model import LogisticRegression\n",
        "from sklearn.metrics import accuracy_score\n",
        "from sklearn import preprocessing\n"
      ]
    },
    {
      "cell_type": "code",
      "source": [
        "!pip install streamlit\n",
        "import streamlit as st"
      ],
      "metadata": {
        "id": "Fn3z2yd1cfUR"
      },
      "execution_count": null,
      "outputs": []
    },
    {
      "cell_type": "code",
      "source": [
        "url = 'https://raw.githubusercontent.com/pratima-ss/Python/main/data_for_heart_disease_prediction.csv'\n",
        "heart_data = pd.read_csv(url)\n",
        "print (heart_data.head(5))\n"
      ],
      "metadata": {
        "id": "cXmoCF4Uwmyf"
      },
      "execution_count": null,
      "outputs": []
    },
    {
      "cell_type": "code",
      "source": [
        "heart_data.head()"
      ],
      "metadata": {
        "id": "jpx9cKksxLaf"
      },
      "execution_count": null,
      "outputs": []
    },
    {
      "cell_type": "code",
      "source": [
        "heart_data.tail()"
      ],
      "metadata": {
        "id": "BqkBprWzxNfF"
      },
      "execution_count": null,
      "outputs": []
    },
    {
      "cell_type": "code",
      "source": [
        "a = pd.get_dummies(heart_data, columns = ['sex'])\n",
        "label_encoder = preprocessing.LabelEncoder()\n",
        "one_hot_encoded_data=a"
      ],
      "metadata": {
        "id": "8Fyy0ou64SXE"
      },
      "execution_count": 7,
      "outputs": []
    },
    {
      "cell_type": "code",
      "source": [
        "\n",
        "one_hot_encoded_data['fasting_blood_sugar']= label_encoder.fit_transform(one_hot_encoded_data['fasting_blood_sugar'])\n",
        "one_hot_encoded_data['rest_ecg']= label_encoder.fit_transform(one_hot_encoded_data['rest_ecg'])\n",
        "one_hot_encoded_data['exercise_induced_angina']= label_encoder.fit_transform(one_hot_encoded_data['exercise_induced_angina'])\n",
        "one_hot_encoded_data['slope']= label_encoder.fit_transform(one_hot_encoded_data['slope'])\n",
        "one_hot_encoded_data['vessels_colored_by_flourosopy']= label_encoder.fit_transform(one_hot_encoded_data['vessels_colored_by_flourosopy'])\n",
        "one_hot_encoded_data['thalassemia']= label_encoder.fit_transform(one_hot_encoded_data['thalassemia'])\n",
        "one_hot_encoded_data['chest_pain_type']= label_encoder.fit_transform(one_hot_encoded_data['chest_pain_type'])\n",
        "\n"
      ],
      "metadata": {
        "id": "vaoBVn3qzQW-"
      },
      "execution_count": 8,
      "outputs": []
    },
    {
      "cell_type": "code",
      "source": [
        "one_hot_encoded_data.shape"
      ],
      "metadata": {
        "colab": {
          "base_uri": "https://localhost:8080/"
        },
        "id": "cM8vLCAHxPPs",
        "outputId": "77b14288-c40c-4c80-b8f3-722e7fa74cb4"
      },
      "execution_count": 9,
      "outputs": [
        {
          "output_type": "execute_result",
          "data": {
            "text/plain": [
              "(1025, 15)"
            ]
          },
          "metadata": {},
          "execution_count": 9
        }
      ]
    },
    {
      "cell_type": "code",
      "source": [
        "one_hot_encoded_data.info()"
      ],
      "metadata": {
        "id": "q58h_ufPxhQd"
      },
      "execution_count": null,
      "outputs": []
    },
    {
      "cell_type": "code",
      "source": [
        "one_hot_encoded_data.isnull().sum()"
      ],
      "metadata": {
        "id": "8OHlvmn4xutD"
      },
      "execution_count": null,
      "outputs": []
    },
    {
      "cell_type": "code",
      "source": [
        "one_hot_encoded_data.describe()"
      ],
      "metadata": {
        "id": "E4rHwGyRxwM3"
      },
      "execution_count": null,
      "outputs": []
    },
    {
      "cell_type": "code",
      "source": [
        "one_hot_encoded_data['target'].value_counts()"
      ],
      "metadata": {
        "id": "yygjxxftxzUH"
      },
      "execution_count": null,
      "outputs": []
    },
    {
      "cell_type": "code",
      "source": [
        "X = one_hot_encoded_data.drop(columns='target', axis=1)\n",
        "Y = one_hot_encoded_data['target']"
      ],
      "metadata": {
        "id": "SzcLAxpGx3Am"
      },
      "execution_count": 14,
      "outputs": []
    },
    {
      "cell_type": "code",
      "source": [
        "print(X)"
      ],
      "metadata": {
        "colab": {
          "base_uri": "https://localhost:8080/"
        },
        "id": "Ps5NX7bGx7XX",
        "outputId": "c79cbd56-e79b-47d0-9f97-f7a6e58c2a84"
      },
      "execution_count": 15,
      "outputs": [
        {
          "output_type": "stream",
          "name": "stdout",
          "text": [
            "      age  chest_pain_type  resting_blood_pressure  cholestoral  \\\n",
            "0      52                3                     125          212   \n",
            "1      53                3                     140          203   \n",
            "2      70                3                     145          174   \n",
            "3      61                3                     148          203   \n",
            "4      62                3                     138          294   \n",
            "...   ...              ...                     ...          ...   \n",
            "1020   59                1                     140          221   \n",
            "1021   60                3                     125          258   \n",
            "1022   47                3                     110          275   \n",
            "1023   50                3                     110          254   \n",
            "1024   54                3                     120          188   \n",
            "\n",
            "      fasting_blood_sugar  rest_ecg  Max_heart_rate  exercise_induced_angina  \\\n",
            "0                       1         2             168                        0   \n",
            "1                       0         1             155                        1   \n",
            "2                       1         2             125                        1   \n",
            "3                       1         2             161                        0   \n",
            "4                       0         2             106                        0   \n",
            "...                   ...       ...             ...                      ...   \n",
            "1020                    1         2             164                        1   \n",
            "1021                    1         1             141                        1   \n",
            "1022                    1         1             118                        1   \n",
            "1023                    1         1             159                        0   \n",
            "1024                    1         2             113                        0   \n",
            "\n",
            "      oldpeak  slope  vessels_colored_by_flourosopy  thalassemia  sex_Female  \\\n",
            "0         1.0      0                              3            3           0   \n",
            "1         3.1      2                              4            3           0   \n",
            "2         2.6      2                              4            3           0   \n",
            "3         0.0      0                              1            3           0   \n",
            "4         1.9      1                              2            0           1   \n",
            "...       ...    ...                            ...          ...         ...   \n",
            "1020      0.0      0                              4            0           0   \n",
            "1021      2.8      1                              1            3           0   \n",
            "1022      1.0      1                              1            0           0   \n",
            "1023      0.0      0                              4            0           1   \n",
            "1024      1.4      1                              1            3           0   \n",
            "\n",
            "      sex_Male  \n",
            "0            1  \n",
            "1            1  \n",
            "2            1  \n",
            "3            1  \n",
            "4            0  \n",
            "...        ...  \n",
            "1020         1  \n",
            "1021         1  \n",
            "1022         1  \n",
            "1023         0  \n",
            "1024         1  \n",
            "\n",
            "[1025 rows x 14 columns]\n"
          ]
        }
      ]
    },
    {
      "cell_type": "code",
      "source": [
        "print(Y)"
      ],
      "metadata": {
        "colab": {
          "base_uri": "https://localhost:8080/"
        },
        "id": "7Tk1Pc-9x9gI",
        "outputId": "8aefa67c-926c-42a4-96b1-ad1126b9a8a7"
      },
      "execution_count": 16,
      "outputs": [
        {
          "output_type": "stream",
          "name": "stdout",
          "text": [
            "0       0\n",
            "1       0\n",
            "2       0\n",
            "3       0\n",
            "4       0\n",
            "       ..\n",
            "1020    1\n",
            "1021    0\n",
            "1022    0\n",
            "1023    1\n",
            "1024    0\n",
            "Name: target, Length: 1025, dtype: int64\n"
          ]
        }
      ]
    },
    {
      "cell_type": "code",
      "source": [
        "X_train, X_test, Y_train, Y_test = train_test_split(X, Y, test_size=0.2, stratify=Y, random_state=2)"
      ],
      "metadata": {
        "id": "j_8MxxhhyAQl"
      },
      "execution_count": 17,
      "outputs": []
    },
    {
      "cell_type": "code",
      "source": [
        "print(X.shape, X_train.shape, X_test.shape)"
      ],
      "metadata": {
        "colab": {
          "base_uri": "https://localhost:8080/"
        },
        "id": "cUiJXq2LyCeO",
        "outputId": "ddef0da4-d111-4f50-b479-7a3d84bdcaf3"
      },
      "execution_count": 18,
      "outputs": [
        {
          "output_type": "stream",
          "name": "stdout",
          "text": [
            "(1025, 14) (820, 14) (205, 14)\n"
          ]
        }
      ]
    },
    {
      "cell_type": "code",
      "source": [
        "model = LogisticRegression()"
      ],
      "metadata": {
        "id": "ox6VkZrJyFDU"
      },
      "execution_count": 19,
      "outputs": []
    },
    {
      "cell_type": "code",
      "source": [
        "X_train"
      ],
      "metadata": {
        "colab": {
          "base_uri": "https://localhost:8080/",
          "height": 487
        },
        "id": "royaJfnNzEC0",
        "outputId": "5056e234-1bd7-4d98-a33e-365b999d7866"
      },
      "execution_count": 20,
      "outputs": [
        {
          "output_type": "execute_result",
          "data": {
            "text/html": [
              "\n",
              "  <div id=\"df-387b590c-4e9c-4e46-98d7-8b423ae0de90\">\n",
              "    <div class=\"colab-df-container\">\n",
              "      <div>\n",
              "<style scoped>\n",
              "    .dataframe tbody tr th:only-of-type {\n",
              "        vertical-align: middle;\n",
              "    }\n",
              "\n",
              "    .dataframe tbody tr th {\n",
              "        vertical-align: top;\n",
              "    }\n",
              "\n",
              "    .dataframe thead th {\n",
              "        text-align: right;\n",
              "    }\n",
              "</style>\n",
              "<table border=\"1\" class=\"dataframe\">\n",
              "  <thead>\n",
              "    <tr style=\"text-align: right;\">\n",
              "      <th></th>\n",
              "      <th>age</th>\n",
              "      <th>chest_pain_type</th>\n",
              "      <th>resting_blood_pressure</th>\n",
              "      <th>cholestoral</th>\n",
              "      <th>fasting_blood_sugar</th>\n",
              "      <th>rest_ecg</th>\n",
              "      <th>Max_heart_rate</th>\n",
              "      <th>exercise_induced_angina</th>\n",
              "      <th>oldpeak</th>\n",
              "      <th>slope</th>\n",
              "      <th>vessels_colored_by_flourosopy</th>\n",
              "      <th>thalassemia</th>\n",
              "      <th>sex_Female</th>\n",
              "      <th>sex_Male</th>\n",
              "    </tr>\n",
              "  </thead>\n",
              "  <tbody>\n",
              "    <tr>\n",
              "      <th>14</th>\n",
              "      <td>52</td>\n",
              "      <td>3</td>\n",
              "      <td>128</td>\n",
              "      <td>204</td>\n",
              "      <td>0</td>\n",
              "      <td>2</td>\n",
              "      <td>156</td>\n",
              "      <td>1</td>\n",
              "      <td>1.0</td>\n",
              "      <td>1</td>\n",
              "      <td>4</td>\n",
              "      <td>1</td>\n",
              "      <td>0</td>\n",
              "      <td>1</td>\n",
              "    </tr>\n",
              "    <tr>\n",
              "      <th>586</th>\n",
              "      <td>64</td>\n",
              "      <td>2</td>\n",
              "      <td>125</td>\n",
              "      <td>309</td>\n",
              "      <td>1</td>\n",
              "      <td>2</td>\n",
              "      <td>131</td>\n",
              "      <td>1</td>\n",
              "      <td>1.8</td>\n",
              "      <td>1</td>\n",
              "      <td>4</td>\n",
              "      <td>3</td>\n",
              "      <td>0</td>\n",
              "      <td>1</td>\n",
              "    </tr>\n",
              "    <tr>\n",
              "      <th>16</th>\n",
              "      <td>51</td>\n",
              "      <td>2</td>\n",
              "      <td>140</td>\n",
              "      <td>308</td>\n",
              "      <td>1</td>\n",
              "      <td>1</td>\n",
              "      <td>142</td>\n",
              "      <td>0</td>\n",
              "      <td>1.5</td>\n",
              "      <td>0</td>\n",
              "      <td>1</td>\n",
              "      <td>0</td>\n",
              "      <td>1</td>\n",
              "      <td>0</td>\n",
              "    </tr>\n",
              "    <tr>\n",
              "      <th>462</th>\n",
              "      <td>52</td>\n",
              "      <td>0</td>\n",
              "      <td>118</td>\n",
              "      <td>186</td>\n",
              "      <td>1</td>\n",
              "      <td>1</td>\n",
              "      <td>190</td>\n",
              "      <td>0</td>\n",
              "      <td>0.0</td>\n",
              "      <td>1</td>\n",
              "      <td>4</td>\n",
              "      <td>2</td>\n",
              "      <td>0</td>\n",
              "      <td>1</td>\n",
              "    </tr>\n",
              "    <tr>\n",
              "      <th>186</th>\n",
              "      <td>40</td>\n",
              "      <td>3</td>\n",
              "      <td>110</td>\n",
              "      <td>167</td>\n",
              "      <td>1</td>\n",
              "      <td>1</td>\n",
              "      <td>114</td>\n",
              "      <td>1</td>\n",
              "      <td>2.0</td>\n",
              "      <td>1</td>\n",
              "      <td>4</td>\n",
              "      <td>3</td>\n",
              "      <td>0</td>\n",
              "      <td>1</td>\n",
              "    </tr>\n",
              "    <tr>\n",
              "      <th>...</th>\n",
              "      <td>...</td>\n",
              "      <td>...</td>\n",
              "      <td>...</td>\n",
              "      <td>...</td>\n",
              "      <td>...</td>\n",
              "      <td>...</td>\n",
              "      <td>...</td>\n",
              "      <td>...</td>\n",
              "      <td>...</td>\n",
              "      <td>...</td>\n",
              "      <td>...</td>\n",
              "      <td>...</td>\n",
              "      <td>...</td>\n",
              "      <td>...</td>\n",
              "    </tr>\n",
              "    <tr>\n",
              "      <th>221</th>\n",
              "      <td>63</td>\n",
              "      <td>3</td>\n",
              "      <td>130</td>\n",
              "      <td>254</td>\n",
              "      <td>1</td>\n",
              "      <td>1</td>\n",
              "      <td>147</td>\n",
              "      <td>0</td>\n",
              "      <td>1.4</td>\n",
              "      <td>1</td>\n",
              "      <td>1</td>\n",
              "      <td>3</td>\n",
              "      <td>0</td>\n",
              "      <td>1</td>\n",
              "    </tr>\n",
              "    <tr>\n",
              "      <th>906</th>\n",
              "      <td>42</td>\n",
              "      <td>3</td>\n",
              "      <td>140</td>\n",
              "      <td>226</td>\n",
              "      <td>1</td>\n",
              "      <td>2</td>\n",
              "      <td>178</td>\n",
              "      <td>0</td>\n",
              "      <td>0.0</td>\n",
              "      <td>0</td>\n",
              "      <td>4</td>\n",
              "      <td>0</td>\n",
              "      <td>0</td>\n",
              "      <td>1</td>\n",
              "    </tr>\n",
              "    <tr>\n",
              "      <th>1002</th>\n",
              "      <td>66</td>\n",
              "      <td>3</td>\n",
              "      <td>112</td>\n",
              "      <td>212</td>\n",
              "      <td>1</td>\n",
              "      <td>1</td>\n",
              "      <td>132</td>\n",
              "      <td>1</td>\n",
              "      <td>0.1</td>\n",
              "      <td>0</td>\n",
              "      <td>1</td>\n",
              "      <td>0</td>\n",
              "      <td>0</td>\n",
              "      <td>1</td>\n",
              "    </tr>\n",
              "    <tr>\n",
              "      <th>966</th>\n",
              "      <td>58</td>\n",
              "      <td>3</td>\n",
              "      <td>128</td>\n",
              "      <td>259</td>\n",
              "      <td>1</td>\n",
              "      <td>1</td>\n",
              "      <td>130</td>\n",
              "      <td>1</td>\n",
              "      <td>3.0</td>\n",
              "      <td>1</td>\n",
              "      <td>3</td>\n",
              "      <td>3</td>\n",
              "      <td>0</td>\n",
              "      <td>1</td>\n",
              "    </tr>\n",
              "    <tr>\n",
              "      <th>191</th>\n",
              "      <td>56</td>\n",
              "      <td>1</td>\n",
              "      <td>130</td>\n",
              "      <td>221</td>\n",
              "      <td>1</td>\n",
              "      <td>1</td>\n",
              "      <td>163</td>\n",
              "      <td>0</td>\n",
              "      <td>0.0</td>\n",
              "      <td>0</td>\n",
              "      <td>4</td>\n",
              "      <td>3</td>\n",
              "      <td>0</td>\n",
              "      <td>1</td>\n",
              "    </tr>\n",
              "  </tbody>\n",
              "</table>\n",
              "<p>820 rows × 14 columns</p>\n",
              "</div>\n",
              "      <button class=\"colab-df-convert\" onclick=\"convertToInteractive('df-387b590c-4e9c-4e46-98d7-8b423ae0de90')\"\n",
              "              title=\"Convert this dataframe to an interactive table.\"\n",
              "              style=\"display:none;\">\n",
              "        \n",
              "  <svg xmlns=\"http://www.w3.org/2000/svg\" height=\"24px\"viewBox=\"0 0 24 24\"\n",
              "       width=\"24px\">\n",
              "    <path d=\"M0 0h24v24H0V0z\" fill=\"none\"/>\n",
              "    <path d=\"M18.56 5.44l.94 2.06.94-2.06 2.06-.94-2.06-.94-.94-2.06-.94 2.06-2.06.94zm-11 1L8.5 8.5l.94-2.06 2.06-.94-2.06-.94L8.5 2.5l-.94 2.06-2.06.94zm10 10l.94 2.06.94-2.06 2.06-.94-2.06-.94-.94-2.06-.94 2.06-2.06.94z\"/><path d=\"M17.41 7.96l-1.37-1.37c-.4-.4-.92-.59-1.43-.59-.52 0-1.04.2-1.43.59L10.3 9.45l-7.72 7.72c-.78.78-.78 2.05 0 2.83L4 21.41c.39.39.9.59 1.41.59.51 0 1.02-.2 1.41-.59l7.78-7.78 2.81-2.81c.8-.78.8-2.07 0-2.86zM5.41 20L4 18.59l7.72-7.72 1.47 1.35L5.41 20z\"/>\n",
              "  </svg>\n",
              "      </button>\n",
              "      \n",
              "  <style>\n",
              "    .colab-df-container {\n",
              "      display:flex;\n",
              "      flex-wrap:wrap;\n",
              "      gap: 12px;\n",
              "    }\n",
              "\n",
              "    .colab-df-convert {\n",
              "      background-color: #E8F0FE;\n",
              "      border: none;\n",
              "      border-radius: 50%;\n",
              "      cursor: pointer;\n",
              "      display: none;\n",
              "      fill: #1967D2;\n",
              "      height: 32px;\n",
              "      padding: 0 0 0 0;\n",
              "      width: 32px;\n",
              "    }\n",
              "\n",
              "    .colab-df-convert:hover {\n",
              "      background-color: #E2EBFA;\n",
              "      box-shadow: 0px 1px 2px rgba(60, 64, 67, 0.3), 0px 1px 3px 1px rgba(60, 64, 67, 0.15);\n",
              "      fill: #174EA6;\n",
              "    }\n",
              "\n",
              "    [theme=dark] .colab-df-convert {\n",
              "      background-color: #3B4455;\n",
              "      fill: #D2E3FC;\n",
              "    }\n",
              "\n",
              "    [theme=dark] .colab-df-convert:hover {\n",
              "      background-color: #434B5C;\n",
              "      box-shadow: 0px 1px 3px 1px rgba(0, 0, 0, 0.15);\n",
              "      filter: drop-shadow(0px 1px 2px rgba(0, 0, 0, 0.3));\n",
              "      fill: #FFFFFF;\n",
              "    }\n",
              "  </style>\n",
              "\n",
              "      <script>\n",
              "        const buttonEl =\n",
              "          document.querySelector('#df-387b590c-4e9c-4e46-98d7-8b423ae0de90 button.colab-df-convert');\n",
              "        buttonEl.style.display =\n",
              "          google.colab.kernel.accessAllowed ? 'block' : 'none';\n",
              "\n",
              "        async function convertToInteractive(key) {\n",
              "          const element = document.querySelector('#df-387b590c-4e9c-4e46-98d7-8b423ae0de90');\n",
              "          const dataTable =\n",
              "            await google.colab.kernel.invokeFunction('convertToInteractive',\n",
              "                                                     [key], {});\n",
              "          if (!dataTable) return;\n",
              "\n",
              "          const docLinkHtml = 'Like what you see? Visit the ' +\n",
              "            '<a target=\"_blank\" href=https://colab.research.google.com/notebooks/data_table.ipynb>data table notebook</a>'\n",
              "            + ' to learn more about interactive tables.';\n",
              "          element.innerHTML = '';\n",
              "          dataTable['output_type'] = 'display_data';\n",
              "          await google.colab.output.renderOutput(dataTable, element);\n",
              "          const docLink = document.createElement('div');\n",
              "          docLink.innerHTML = docLinkHtml;\n",
              "          element.appendChild(docLink);\n",
              "        }\n",
              "      </script>\n",
              "    </div>\n",
              "  </div>\n",
              "  "
            ],
            "text/plain": [
              "      age  chest_pain_type  resting_blood_pressure  cholestoral  \\\n",
              "14     52                3                     128          204   \n",
              "586    64                2                     125          309   \n",
              "16     51                2                     140          308   \n",
              "462    52                0                     118          186   \n",
              "186    40                3                     110          167   \n",
              "...   ...              ...                     ...          ...   \n",
              "221    63                3                     130          254   \n",
              "906    42                3                     140          226   \n",
              "1002   66                3                     112          212   \n",
              "966    58                3                     128          259   \n",
              "191    56                1                     130          221   \n",
              "\n",
              "      fasting_blood_sugar  rest_ecg  Max_heart_rate  exercise_induced_angina  \\\n",
              "14                      0         2             156                        1   \n",
              "586                     1         2             131                        1   \n",
              "16                      1         1             142                        0   \n",
              "462                     1         1             190                        0   \n",
              "186                     1         1             114                        1   \n",
              "...                   ...       ...             ...                      ...   \n",
              "221                     1         1             147                        0   \n",
              "906                     1         2             178                        0   \n",
              "1002                    1         1             132                        1   \n",
              "966                     1         1             130                        1   \n",
              "191                     1         1             163                        0   \n",
              "\n",
              "      oldpeak  slope  vessels_colored_by_flourosopy  thalassemia  sex_Female  \\\n",
              "14        1.0      1                              4            1           0   \n",
              "586       1.8      1                              4            3           0   \n",
              "16        1.5      0                              1            0           1   \n",
              "462       0.0      1                              4            2           0   \n",
              "186       2.0      1                              4            3           0   \n",
              "...       ...    ...                            ...          ...         ...   \n",
              "221       1.4      1                              1            3           0   \n",
              "906       0.0      0                              4            0           0   \n",
              "1002      0.1      0                              1            0           0   \n",
              "966       3.0      1                              3            3           0   \n",
              "191       0.0      0                              4            3           0   \n",
              "\n",
              "      sex_Male  \n",
              "14           1  \n",
              "586          1  \n",
              "16           0  \n",
              "462          1  \n",
              "186          1  \n",
              "...        ...  \n",
              "221          1  \n",
              "906          1  \n",
              "1002         1  \n",
              "966          1  \n",
              "191          1  \n",
              "\n",
              "[820 rows x 14 columns]"
            ]
          },
          "metadata": {},
          "execution_count": 20
        }
      ]
    },
    {
      "cell_type": "code",
      "source": [
        "model.fit(X_train, Y_train)"
      ],
      "metadata": {
        "id": "SMVy5-TdyW4I"
      },
      "execution_count": null,
      "outputs": []
    },
    {
      "cell_type": "code",
      "source": [
        "# accuracy on training data\n",
        "X_train_prediction = model.predict(X_train)\n",
        "training_data_accuracy = accuracy_score(X_train_prediction, Y_train)"
      ],
      "metadata": {
        "id": "xh1mShED5ma2"
      },
      "execution_count": 22,
      "outputs": []
    },
    {
      "cell_type": "code",
      "source": [
        "print('Accuracy on Training data : ', training_data_accuracy)"
      ],
      "metadata": {
        "colab": {
          "base_uri": "https://localhost:8080/"
        },
        "id": "QCpHbSop5vR6",
        "outputId": "954b455c-3fb8-48c7-8152-7a79edf7b3fd"
      },
      "execution_count": 23,
      "outputs": [
        {
          "output_type": "stream",
          "name": "stdout",
          "text": [
            "Accuracy on Training data :  0.85\n"
          ]
        }
      ]
    },
    {
      "cell_type": "code",
      "source": [
        "# accuracy on test data\n",
        "X_test_prediction = model.predict(X_test)\n",
        "test_data_accuracy = accuracy_score(X_test_prediction, Y_test)"
      ],
      "metadata": {
        "id": "4TmX1ryE5y5-"
      },
      "execution_count": 24,
      "outputs": []
    },
    {
      "cell_type": "code",
      "source": [
        "print('Accuracy on Test data : ', test_data_accuracy)"
      ],
      "metadata": {
        "colab": {
          "base_uri": "https://localhost:8080/"
        },
        "id": "SiXjxRwX5zux",
        "outputId": "ad09ebff-557f-4e8b-92c4-362b318abff9"
      },
      "execution_count": 25,
      "outputs": [
        {
          "output_type": "stream",
          "name": "stdout",
          "text": [
            "Accuracy on Test data :  0.8\n"
          ]
        }
      ]
    },
    {
      "cell_type": "code",
      "source": [
        "import pickle"
      ],
      "metadata": {
        "id": "zI4QRpRodqPM"
      },
      "execution_count": 26,
      "outputs": []
    },
    {
      "cell_type": "code",
      "source": [
        "with open('model_pkl', 'wb') as files:\n",
        "    pickle.dump(model, files)"
      ],
      "metadata": {
        "id": "ZwZFz8a4dsKq"
      },
      "execution_count": 27,
      "outputs": []
    },
    {
      "cell_type": "code",
      "source": [
        "input_data = (56 \t,1 ,\t130 ,\t221 ,\t1 ,\t1 ,\t163 ,\t0 \t,0.0 ,\t0, \t4 ,\t3 ,\t0 ,\t1)"
      ],
      "metadata": {
        "id": "N80sbJ0v54BI"
      },
      "execution_count": 28,
      "outputs": []
    },
    {
      "cell_type": "code",
      "source": [
        "# change the input data to a numpy array\n",
        "input_data_as_numpy_array= np.asarray(input_data)\n",
        "\n",
        "# reshape the numpy array as we are predicting for only on instance\n",
        "input_data_reshaped = input_data_as_numpy_array.reshape(1,-1)\n",
        "print(input_data_reshaped)\n",
        "prediction = model.predict(input_data_reshaped)"
      ],
      "metadata": {
        "id": "wYYfBhTV72w9"
      },
      "execution_count": null,
      "outputs": []
    },
    {
      "cell_type": "code",
      "source": [
        "\n",
        "print(prediction)\n",
        "\n",
        "if (prediction[0]== 0):\n",
        "  print('The Person does not have a Heart Disease')\n",
        "else:\n",
        "  print('The Person has Heart Disease')"
      ],
      "metadata": {
        "colab": {
          "base_uri": "https://localhost:8080/"
        },
        "id": "Z8K7n-WK56Sw",
        "outputId": "c4f22347-dd71-457b-a336-23ca8cd8693e"
      },
      "execution_count": 30,
      "outputs": [
        {
          "output_type": "stream",
          "name": "stdout",
          "text": [
            "[1]\n",
            "The Person has Heart Disease\n"
          ]
        }
      ]
    }
  ]
}